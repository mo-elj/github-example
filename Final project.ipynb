{
 "cells": [
  {
   "cell_type": "markdown",
   "metadata": {},
   "source": [
    "# Capstone Project - The Battle of Neighborhoods"
   ]
  },
  {
   "cell_type": "markdown",
   "metadata": {},
   "source": [
    "## Week 4 evaluation:"
   ]
  },
  {
   "cell_type": "markdown",
   "metadata": {},
   "source": [
    "#### 1. A description of the problem and a discussion of the background."
   ]
  },
  {
   "cell_type": "markdown",
   "metadata": {},
   "source": [
    "In this project I will explore the city of Paris and segment and cluster their neighborhoods. I will then compare the neighborhoods of NY with the two cities of Paris and New York and determine how similar or dissimilar they are. Is New York City more like Toronto or Paris."
   ]
  },
  {
   "cell_type": "markdown",
   "metadata": {},
   "source": [
    "#### 2. A description of the data and how it will be used to solve the problem. "
   ]
  },
  {
   "cell_type": "markdown",
   "metadata": {},
   "source": [
    "I order to explore the city of Paris, I will use an open source data set provided by the municipality of Paris website in the following URL: https://opendata.paris.fr/explore/dataset/quartier_paris/table/?location=12,48.85889,2.34692&basemap=jawg.streets&dataChart=eyJxdWVyaWVzIjpbeyJjb25maWciOnsiZGF0YXNldCI6InF1YXJ0aWVyX3BhcmlzIiwib3B0aW9ucyI6e319LCJjaGFydHMiOlt7ImFsaWduTW9udGgiOnRydWUsInR5cGUiOiJjb2x1bW4iLCJmdW5jIjoiQVZHIiwieUF4aXMiOiJuX3NxX3F1Iiwic2NpZW50aWZpY0Rpc3BsYXkiOnRydWUsImNvbG9yIjoiIzAwMzM2NiJ9XSwieEF4aXMiOiJsX3F1IiwibWF4cG9pbnRzIjo1MCwic29ydCI6IiJ9XSwidGltZXNjYWxlIjoiIiwiZGlzcGxheUxlZ2VuZCI6dHJ1ZSwiYWxpZ25Nb250aCI6dHJ1ZX0%3D "
   ]
  },
  {
   "cell_type": "markdown",
   "metadata": {},
   "source": [
    "I will first export the data under excel format and then transform the data under the required format. \n",
    "I will then explore the list of venues per neighborhoods. After segmenting the neighborhoods I will explore the different cluster and  compare them to those of NY and Toronto cities."
   ]
  },
  {
   "cell_type": "code",
   "execution_count": 5,
   "metadata": {},
   "outputs": [
    {
     "name": "stdout",
     "output_type": "stream",
     "text": [
      "Collecting xlrd\n",
      "\u001b[?25l  Downloading https://files.pythonhosted.org/packages/b0/16/63576a1a001752e34bf8ea62e367997530dc553b689356b9879339cf45a4/xlrd-1.2.0-py2.py3-none-any.whl (103kB)\n",
      "\u001b[K     |████████████████████████████████| 112kB 29.3MB/s eta 0:00:01\n",
      "\u001b[?25hInstalling collected packages: xlrd\n",
      "Successfully installed xlrd-1.2.0\n",
      "Note: you may need to restart the kernel to use updated packages.\n"
     ]
    }
   ],
   "source": [
    "pip install xlrd #for reading excel files"
   ]
  },
  {
   "cell_type": "code",
   "execution_count": 7,
   "metadata": {},
   "outputs": [
    {
     "data": {
      "text/html": [
       "<div>\n",
       "<style scoped>\n",
       "    .dataframe tbody tr th:only-of-type {\n",
       "        vertical-align: middle;\n",
       "    }\n",
       "\n",
       "    .dataframe tbody tr th {\n",
       "        vertical-align: top;\n",
       "    }\n",
       "\n",
       "    .dataframe thead th {\n",
       "        text-align: right;\n",
       "    }\n",
       "</style>\n",
       "<table border=\"1\" class=\"dataframe\">\n",
       "  <thead>\n",
       "    <tr style=\"text-align: right;\">\n",
       "      <th></th>\n",
       "      <th>N_SQ_QU</th>\n",
       "      <th>C_QU</th>\n",
       "      <th>C_QUINSEE</th>\n",
       "      <th>L_QU</th>\n",
       "      <th>C_AR</th>\n",
       "      <th>N_SQ_AR</th>\n",
       "      <th>PERIMETRE</th>\n",
       "      <th>SURFACE</th>\n",
       "      <th>Geometry X Y</th>\n",
       "    </tr>\n",
       "  </thead>\n",
       "  <tbody>\n",
       "    <tr>\n",
       "      <th>0</th>\n",
       "      <td>750000013</td>\n",
       "      <td>13</td>\n",
       "      <td>7510401</td>\n",
       "      <td>Saint-Merri</td>\n",
       "      <td>4</td>\n",
       "      <td>750000004</td>\n",
       "      <td>2346.004687</td>\n",
       "      <td>3.130404e+05</td>\n",
       "      <td>48.8585213723, 2.35166696714</td>\n",
       "    </tr>\n",
       "    <tr>\n",
       "      <th>1</th>\n",
       "      <td>750000016</td>\n",
       "      <td>16</td>\n",
       "      <td>7510404</td>\n",
       "      <td>Notre-Dame</td>\n",
       "      <td>4</td>\n",
       "      <td>750000004</td>\n",
       "      <td>3283.163371</td>\n",
       "      <td>3.782522e+05</td>\n",
       "      <td>48.8528955862, 2.35277501212</td>\n",
       "    </tr>\n",
       "    <tr>\n",
       "      <th>2</th>\n",
       "      <td>750000028</td>\n",
       "      <td>28</td>\n",
       "      <td>7510704</td>\n",
       "      <td>Gros-Caillou</td>\n",
       "      <td>7</td>\n",
       "      <td>750000007</td>\n",
       "      <td>4720.994373</td>\n",
       "      <td>1.381893e+06</td>\n",
       "      <td>48.8582999039, 2.30154155569</td>\n",
       "    </tr>\n",
       "    <tr>\n",
       "      <th>3</th>\n",
       "      <td>750000015</td>\n",
       "      <td>15</td>\n",
       "      <td>7510403</td>\n",
       "      <td>Arsenal</td>\n",
       "      <td>4</td>\n",
       "      <td>750000004</td>\n",
       "      <td>2878.559656</td>\n",
       "      <td>4.872649e+05</td>\n",
       "      <td>48.851585175, 2.36476795387</td>\n",
       "    </tr>\n",
       "    <tr>\n",
       "      <th>4</th>\n",
       "      <td>750000018</td>\n",
       "      <td>18</td>\n",
       "      <td>7510502</td>\n",
       "      <td>Jardin-des-Plantes</td>\n",
       "      <td>5</td>\n",
       "      <td>750000005</td>\n",
       "      <td>4052.729521</td>\n",
       "      <td>7.983894e+05</td>\n",
       "      <td>48.8419401934, 2.35689388962</td>\n",
       "    </tr>\n",
       "  </tbody>\n",
       "</table>\n",
       "</div>"
      ],
      "text/plain": [
       "     N_SQ_QU  C_QU  C_QUINSEE                L_QU  C_AR    N_SQ_AR  \\\n",
       "0  750000013    13    7510401         Saint-Merri     4  750000004   \n",
       "1  750000016    16    7510404          Notre-Dame     4  750000004   \n",
       "2  750000028    28    7510704        Gros-Caillou     7  750000007   \n",
       "3  750000015    15    7510403             Arsenal     4  750000004   \n",
       "4  750000018    18    7510502  Jardin-des-Plantes     5  750000005   \n",
       "\n",
       "     PERIMETRE       SURFACE                  Geometry X Y  \n",
       "0  2346.004687  3.130404e+05  48.8585213723, 2.35166696714  \n",
       "1  3283.163371  3.782522e+05  48.8528955862, 2.35277501212  \n",
       "2  4720.994373  1.381893e+06  48.8582999039, 2.30154155569  \n",
       "3  2878.559656  4.872649e+05   48.851585175, 2.36476795387  \n",
       "4  4052.729521  7.983894e+05  48.8419401934, 2.35689388962  "
      ]
     },
     "execution_count": 7,
     "metadata": {},
     "output_type": "execute_result"
    }
   ],
   "source": [
    "import pandas as pd # library for data analsysis\n",
    "\n",
    "# reading csv file\n",
    "data = pd.read_excel(\"quartier_paris.xlsx\") \n",
    "   \n",
    "# displying  raw dataframe\n",
    "data.head() "
   ]
  },
  {
   "cell_type": "code",
   "execution_count": null,
   "metadata": {},
   "outputs": [],
   "source": []
  },
  {
   "cell_type": "code",
   "execution_count": null,
   "metadata": {},
   "outputs": [],
   "source": []
  }
 ],
 "metadata": {
  "kernelspec": {
   "display_name": "Python",
   "language": "python",
   "name": "conda-env-python-py"
  },
  "language_info": {
   "codemirror_mode": {
    "name": "ipython",
    "version": 3
   },
   "file_extension": ".py",
   "mimetype": "text/x-python",
   "name": "python",
   "nbconvert_exporter": "python",
   "pygments_lexer": "ipython3",
   "version": "3.6.7"
  }
 },
 "nbformat": 4,
 "nbformat_minor": 4
}
